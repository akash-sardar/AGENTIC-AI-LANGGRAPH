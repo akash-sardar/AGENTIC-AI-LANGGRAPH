{
 "cells": [
  {
   "cell_type": "markdown",
   "id": "aee1d5c3",
   "metadata": {},
   "source": [
    "# Pydantic: Creating and Using Models"
   ]
  },
  {
   "cell_type": "code",
   "execution_count": 1,
   "id": "487ab01f",
   "metadata": {},
   "outputs": [],
   "source": [
    "from pydantic import BaseModel"
   ]
  },
  {
   "cell_type": "code",
   "execution_count": 2,
   "id": "daff43f8",
   "metadata": {},
   "outputs": [],
   "source": [
    "class Person(BaseModel):\n",
    "    name:str\n",
    "    age:int\n",
    "    city:str"
   ]
  },
  {
   "cell_type": "markdown",
   "id": "e5be5063",
   "metadata": {},
   "source": [
    "# Model with Optional Fields"
   ]
  },
  {
   "cell_type": "code",
   "execution_count": 3,
   "id": "7642d128",
   "metadata": {},
   "outputs": [],
   "source": [
    "from typing import Optional\n",
    "\n",
    "class Employee(BaseModel):\n",
    "    id: int\n",
    "    name: str\n",
    "    department: str\n",
    "    salary: Optional[float] = None\n",
    "    is_active: Optional[bool] = True"
   ]
  },
  {
   "cell_type": "markdown",
   "id": "f7205de3",
   "metadata": {},
   "source": [
    "# Nested Pydantic Models"
   ]
  },
  {
   "cell_type": "code",
   "execution_count": 4,
   "id": "0438d97a",
   "metadata": {},
   "outputs": [
    {
     "name": "stdout",
     "output_type": "stream",
     "text": [
      "customer_id=1 name='Emma' address=Address(street='123 Main St', city='Boston', zip_code='02108')\n"
     ]
    }
   ],
   "source": [
    "class Address(BaseModel):\n",
    "    street: str\n",
    "    city: str\n",
    "    zip_code: str\n",
    "\n",
    "class Customer(BaseModel):\n",
    "    customer_id: int\n",
    "    name: str\n",
    "    address: Address #Nested Model\n",
    "\n",
    "customer = Customer(\n",
    "    customer_id=1,\n",
    "    name = \"Emma\",\n",
    "    address={\"street\": \"123 Main St\", \"city\": \"Boston\", \"zip_code\": \"02108\"}\n",
    ")\n",
    "\n",
    "print(customer)\n"
   ]
  },
  {
   "cell_type": "markdown",
   "id": "181ed5c1",
   "metadata": {},
   "source": [
    "# Pydantic Fields  :customization and constraints"
   ]
  },
  {
   "cell_type": "code",
   "execution_count": null,
   "id": "2bb3900b",
   "metadata": {},
   "outputs": [],
   "source": [
    "from pydantic import Field\n",
    "\n",
    "class Item(BaseModel):\n",
    "    name: str = Field(default = \"default_name\", min_length=2, max_length=50)\n",
    "    price: float = Field(gt = 0, le = 1000)\n",
    "    quantity: int = Field(ge = 0)\n",
    "\n",
    "# instance\n",
    "\n",
    "item = Item(name=\"Fun\", price = 10, quantity = 1)"
   ]
  },
  {
   "cell_type": "code",
   "execution_count": 13,
   "id": "1bb43964",
   "metadata": {},
   "outputs": [
    {
     "name": "stdout",
     "output_type": "stream",
     "text": [
      "{'properties': {'name': {'maxLength': 50, 'minLength': 2, 'title': 'Name', 'type': 'string'}, 'price': {'exclusiveMinimum': 0, 'maximum': 1000, 'title': 'Price', 'type': 'number'}, 'quantity': {'minimum': 0, 'title': 'Quantity', 'type': 'integer'}}, 'required': ['name', 'price', 'quantity'], 'title': 'Item', 'type': 'object'}\n"
     ]
    }
   ],
   "source": [
    "print(Item.model_json_schema())"
   ]
  },
  {
   "cell_type": "code",
   "execution_count": null,
   "id": "8c9c86f6",
   "metadata": {},
   "outputs": [],
   "source": []
  }
 ],
 "metadata": {
  "kernelspec": {
   "display_name": "llm_env",
   "language": "python",
   "name": "python3"
  },
  "language_info": {
   "codemirror_mode": {
    "name": "ipython",
    "version": 3
   },
   "file_extension": ".py",
   "mimetype": "text/x-python",
   "name": "python",
   "nbconvert_exporter": "python",
   "pygments_lexer": "ipython3",
   "version": "3.11.9"
  }
 },
 "nbformat": 4,
 "nbformat_minor": 5
}
